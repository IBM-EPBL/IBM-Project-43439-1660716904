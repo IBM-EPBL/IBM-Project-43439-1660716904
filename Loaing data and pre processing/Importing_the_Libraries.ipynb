{
  "nbformat": 4,
  "nbformat_minor": 0,
  "metadata": {
    "colab": {
      "provenance": []
    },
    "kernelspec": {
      "name": "python3",
      "display_name": "Python 3"
    },
    "language_info": {
      "name": "python"
    }
  },
  "cells": [
    {
      "cell_type": "code",
      "source": [
        "import numpy as  np \n",
        "\n",
        "import tensorflow as tf \n",
        "import keras \n",
        "import keras.backend as k\n",
        "\n",
        "from keras.optimizers import SGD,Adam,Adagrad,RMSprop \n",
        "from keras.application import * \n",
        "from keras.preprocessing import * \n",
        "from keras.preprocessing.image import  ImageDataGenerator,array_to_img,img_to_array,load_img \n",
        "from keras.callbacks import EarlyStopping, ModelCheckpoint \n",
        "from keras.models import Sequential \n",
        "from keras.layers import Dense,Conv2D, MaxPool2D, Flatten, Activation, BatchNormalization,Dropout \n",
        "from keras.utils.np_utils import to_categorical \n",
        "from sklearn.model_selection import train_test_split \n",
        "\n",
        "import matplotlib.pyplot as plt \n",
        "\n",
        "import glob \n",
        "from PIL import Image \n",
        "import os \n",
        "from os import listdir\n",
        "Footer"
      ],
      "metadata": {
        "id": "orSDXyDfpn6O"
      },
      "execution_count": null,
      "outputs": []
    }
  ]
}