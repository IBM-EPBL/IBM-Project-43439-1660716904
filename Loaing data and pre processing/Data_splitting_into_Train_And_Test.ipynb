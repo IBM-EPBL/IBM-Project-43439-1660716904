{
  "nbformat": 4,
  "nbformat_minor": 0,
  "metadata": {
    "colab": {
      "provenance": []
    },
    "kernelspec": {
      "name": "python3",
      "display_name": "Python 3"
    },
    "language_info": {
      "name": "python"
    }
  },
  "cells": [
    {
      "cell_type": "code",
      "source": [
        "print(X_data)\n",
        "print(Y_data)\n",
        "\n",
        "X=np.array(X_data)\n",
        "Y=np.array(Y_data)\n",
        "\n",
        "print(\"x-shape\",X.shape,\"y shape\",Y.shape)\n",
        "\n",
        "X=X.astype('float32')/255.0\n",
        "y_cat=to_categorical(Y_data,len(subfolders))\n",
        "\n",
        "print(\"X shape\",X,\"y_cat shape\",y_cat)\n",
        "print(\"X shape\",X.shape,\"y_cat shape\",y_cat.shape)\n",
        "\n",
        "X_train,X_test,y_train,y_test=train_test_split(X,y_cat,test_size=0.2)\n",
        "print(\"The model has \"+str(len(X_train))+\" inputs\")"
      ],
      "metadata": {
        "id": "orSDXyDfpn6O"
      },
      "execution_count": null,
      "outputs": []
    }
  ]
}