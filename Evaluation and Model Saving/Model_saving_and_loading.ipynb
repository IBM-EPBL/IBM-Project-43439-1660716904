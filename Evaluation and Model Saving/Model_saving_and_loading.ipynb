{
  "nbformat": 4,
  "nbformat_minor": 0,
  "metadata": {
    "colab": {
      "provenance": []
    },
    "kernelspec": {
      "name": "python3",
      "display_name": "Python 3"
    },
    "language_info": {
      "name": "python"
    }
  },
  "cells": [
    {
      "cell_type": "code",
      "execution_count": null,
      "metadata": {
        "id": "m1DYbKa_BdQ9"
      },
      "outputs": [],
      "source": [
        "model_json=model.to_json(0 \n",
        "with open(\"final_model.json\",\"w\") as json_file:\n",
        "   json_file.write(model_json) \n",
        "\n",
        "model.save_weights(\"final_model.h5\") \n",
        "print(\"Saved model to disk\")"
      ]
    }
  ]
}