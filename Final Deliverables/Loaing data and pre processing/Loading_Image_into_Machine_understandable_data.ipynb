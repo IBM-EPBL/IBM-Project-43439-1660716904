{
  "nbformat": 4,
  "nbformat_minor": 0,
  "metadata": {
    "colab": {
      "provenance": []
    },
    "kernelspec": {
      "name": "python3",
      "display_name": "Python 3"
    },
    "language_info": {
      "name": "python"
    }
  },
  "cells": [
    {
      "cell_type": "code",
      "source": [
        "X_data=[]\n",
        "Y_data=[]\n",
        "id_no=0\n",
        "\n",
        "found=[]\n",
        "\n",
        "for paths in subfolders:\n",
        "    files = glob.glob(paths+ \"/*.jpg\")\n",
        "    found.append((paths.split('||')[-2],paths.split('||')[-1]))\n",
        "\n",
        "    for myFile in files:\n",
        "        img=Image.open(myFile)\n",
        "        img=img.resize((224,224),Image.ANTIALIAS)\n",
        "        img=np.array(img)\n",
        "        if img.shape==(224,224,3):\n",
        "            X_data.append(img)\n",
        "            Y_data.append(id_no)\n",
        "    id_no+=1"
      ],
      "metadata": {
        "id": "orSDXyDfpn6O"
      },
      "execution_count": null,
      "outputs": []
    }
  ]
}