{
  "nbformat": 4,
  "nbformat_minor": 0,
  "metadata": {
    "colab": {
      "provenance": []
    },
    "kernelspec": {
      "name": "python3",
      "display_name": "Python 3"
    },
    "language_info": {
      "name": "python"
    }
  },
  "cells": [
    {
      "cell_type": "code",
      "source": [
        "\n",
        "\n",
        "dirName = 'D:/TSB Projects/Digital Naturalist/augmented data'\n",
        "folders = listdir(dirName)\n",
        "\n",
        "def getListOfFiles(dirName):\n",
        "    listOfFile = os.listdir(dirName)\n",
        "    allFiles = list()\n",
        "    for fol name in listOfFile:\n",
        "        fullPath = os.path.join(dirName,fol_name)\n",
        "        allFiles.append(fullPath)\n",
        "    return allFiles\n",
        "\n",
        "Folders = getListOfFiles(dirName)\n",
        "len(Folders)\n",
        "subfolders = []\n",
        "for num in range(len(Folders)):\n",
        "    sub_fols = getListOfFiles(Folders[num])\n",
        "    subfolders+=sub_fols\n",
        "subfolder"
      ],
      "metadata": {
        "id": "orSDXyDfpn6O"
      },
      "execution_count": null,
      "outputs": []
    }
  ]
}