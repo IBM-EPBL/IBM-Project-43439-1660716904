{
  "nbformat": 4,
  "nbformat_minor": 0,
  "metadata": {
    "colab": {
      "provenance": []
    },
    "kernelspec": {
      "name": "python3",
      "display_name": "Python 3"
    },
    "language_info": {
      "name": "python"
    }
  },
  "cells": [
    {
      "cell_type": "code",
      "source": [
        "Trained model - > [DigitalNaturalist.h5](https://drive.google.com/drive/folders/1eBMoE9DbBeY90omuP4fDbFAJYEbTnEq0?usp=sharing)"
      ],
      "metadata": {
        "id": "orSDXyDfpn6O"
      },
      "execution_count": null,
      "outputs": []
    }
  ]
}