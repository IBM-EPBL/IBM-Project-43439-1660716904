{
  "nbformat": 4,
  "nbformat_minor": 0,
  "metadata": {
    "colab": {
      "provenance": []
    },
    "kernelspec": {
      "name": "python3",
      "display_name": "Python 3"
    },
    "language_info": {
      "name": "python"
    }
  },
  "cells": [
    {
      "cell_type": "code",
      "execution_count": null,
      "metadata": {
        "id": "H2m7AbJjgUHG"
      },
      "outputs": [],
      "source": [
        "   1. tf.keras.preprocessing.image_dataset_from_directory(\n",
        "   2. directory,\n",
        "   3. labels=\"inferred\",\n",
        "   4. label_mode=\"int\",\n",
        "   5. class_names=None,\n",
        "   6. color_mode=\"rgb\",\n",
        "   7.  batch_size=32,\n",
        "   8.  image_size=(256, 256),\n",
        "   9. shuffle=True,\n",
        "   10. seed=None,\n",
        "   11. validation_split=None,\n",
        "   12. subset=None,\n",
        "   13. interpolation=\"bilinear\",\n",
        "   14.follow_links=False,\n",
        "   15.crop_to_aspect_ratio=False,\n",
        "   16.  **kwargs\n",
        "   17.)\n",
        "   18.tf.keras.preprocessing.image.load_img(\n",
        "   19.path, grayscale=False, color_mode=\"rgb\", target_size=None, interpolation=\"nearest\"\n",
        "   20.)\n",
        "   21.image = tf.keras.preprocessing.image.load_img(image_path)\n",
        "   22.input_arr = tf.keras.preprocessing.image.img_to_array(image)\n",
        "   23.input_arr = np.array([input_arr])\n",
        "   24.predictions = model.predict(input_arr)\n",
        "   25.tf.keras.preprocessing.image.img_to_array(img, data_format=None, dtype=None)\n",
        "   26. from PIL import Image\n",
        "   27.img_data = np.random.random(size=(100, 100, 3))\n",
        "   28.img = tf.keras.preprocessing.image.array_to_img(img_data)\n",
        "   29.array = tf.keras.preprocessing.image.img_to_array(img)"
      ]
    }
  ]
}