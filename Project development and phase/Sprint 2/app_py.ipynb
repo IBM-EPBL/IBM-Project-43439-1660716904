{
  "nbformat": 4,
  "nbformat_minor": 0,
  "metadata": {
    "colab": {
      "provenance": []
    },
    "kernelspec": {
      "name": "python3",
      "display_name": "Python 3"
    },
    "language_info": {
      "name": "python"
    }
  },
  "cells": [
    {
      "cell_type": "code",
      "execution_count": null,
      "metadata": {
        "id": "xSEGWlFTwFr_"
      },
      "outputs": [],
      "source": [
        "1.from flask import Flask, redirect, render_template, request\n",
        "2\n",
        "3.app = Flask(__name__)\n",
        "4.\n",
        "5.@app.route('/', methods=['GET'])\n",
        "6.def index():\n",
        "7.    # Home Page\n",
        "8.    return render_template(\"index.html\")\n",
        "9.\n",
        "10.@app.route('/predict', methods=['GET', 'POST'])\n",
        "11.def upload():\n",
        "12.    # logic yet to be built\n",
        "13.    if request.method == 'GET':\n",
        "14.        return (\"Here the logic is defined\")\n",
        "15.    if request.method == 'POST':\n",
        "16.        return (\"Here the logic is defined\")\n",
        "17.if __name__ == '__main__':\n",
        "18.    app.run()"
      ]
    }
  ]
}